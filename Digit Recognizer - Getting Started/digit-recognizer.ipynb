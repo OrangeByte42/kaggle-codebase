{
 "cells": [
  {
   "cell_type": "code",
   "execution_count": null,
   "metadata": {
    "execution": {
     "iopub.execute_input": "2025-06-24T02:25:21.072493Z",
     "iopub.status.busy": "2025-06-24T02:25:21.072144Z",
     "iopub.status.idle": "2025-06-24T02:25:21.087751Z",
     "shell.execute_reply": "2025-06-24T02:25:21.086783Z",
     "shell.execute_reply.started": "2025-06-24T02:25:21.072459Z"
    },
    "trusted": true
   },
   "outputs": [],
   "source": [
    "# Setting up Kaggle Notebook to enable automatic code completion\n",
    "%config Completer.use_jedi = False"
   ]
  },
  {
   "cell_type": "code",
   "execution_count": null,
   "metadata": {
    "execution": {
     "iopub.execute_input": "2025-06-24T02:25:21.094066Z",
     "iopub.status.busy": "2025-06-24T02:25:21.093639Z",
     "iopub.status.idle": "2025-06-24T02:25:23.856101Z",
     "shell.execute_reply": "2025-06-24T02:25:23.855127Z",
     "shell.execute_reply.started": "2025-06-24T02:25:21.094030Z"
    },
    "trusted": true
   },
   "outputs": [],
   "source": [
    "import os\n",
    "import torch\n",
    "\n",
    "import numpy as np\n",
    "import pandas as pd\n",
    "import torch\n",
    "\n",
    "import torch.nn as nn\n",
    "import torch.nn.functional as F\n",
    "\n",
    "from torch.utils.data import Dataset, DataLoader"
   ]
  },
  {
   "cell_type": "code",
   "execution_count": null,
   "metadata": {},
   "outputs": [],
   "source": [
    "# Device configuration\n",
    "print(f\"GPU available: {torch.cuda.is_available()}\")\n",
    "device = torch.device('cuda' if torch.cuda.is_available() else 'cpu')"
   ]
  },
  {
   "cell_type": "markdown",
   "metadata": {},
   "source": [
    "# Load Data"
   ]
  },
  {
   "cell_type": "code",
   "execution_count": null,
   "metadata": {
    "execution": {
     "iopub.execute_input": "2025-06-24T02:25:23.860439Z",
     "iopub.status.busy": "2025-06-24T02:25:23.860187Z",
     "iopub.status.idle": "2025-06-24T02:25:27.851869Z",
     "shell.execute_reply": "2025-06-24T02:25:27.850719Z",
     "shell.execute_reply.started": "2025-06-24T02:25:23.860418Z"
    },
    "trusted": true
   },
   "outputs": [],
   "source": [
    "# Load data from .csv by pandas\n",
    "base_path = '/kaggle/input/digit-recognizer'\n",
    "train_data = pd.read_csv(os.path.join(base_path, 'train.csv'))\n",
    "submit_data = pd.read_csv(os.path.join(base_path, 'test.csv'))"
   ]
  },
  {
   "cell_type": "code",
   "execution_count": null,
   "metadata": {
    "execution": {
     "iopub.execute_input": "2025-06-24T02:25:27.852874Z",
     "iopub.status.busy": "2025-06-24T02:25:27.852596Z",
     "iopub.status.idle": "2025-06-24T02:25:28.044754Z",
     "shell.execute_reply": "2025-06-24T02:25:28.043813Z",
     "shell.execute_reply.started": "2025-06-24T02:25:27.852852Z"
    },
    "trusted": true
   },
   "outputs": [],
   "source": [
    "# Transforms to torch.Tensor\n",
    "train_data = torch.tensor(train_data.values)\n",
    "submit_data = torch.tensor(submit_data.values)"
   ]
  },
  {
   "cell_type": "code",
   "execution_count": null,
   "metadata": {
    "execution": {
     "iopub.execute_input": "2025-06-24T02:25:28.046306Z",
     "iopub.status.busy": "2025-06-24T02:25:28.045936Z",
     "iopub.status.idle": "2025-06-24T02:25:28.052076Z",
     "shell.execute_reply": "2025-06-24T02:25:28.050812Z",
     "shell.execute_reply.started": "2025-06-24T02:25:28.046272Z"
    },
    "trusted": true
   },
   "outputs": [],
   "source": [
    "print(train_data.shape, submit_data.shape)"
   ]
  },
  {
   "cell_type": "code",
   "execution_count": null,
   "metadata": {
    "execution": {
     "iopub.execute_input": "2025-06-24T02:25:28.053818Z",
     "iopub.status.busy": "2025-06-24T02:25:28.053401Z",
     "iopub.status.idle": "2025-06-24T02:25:28.170711Z",
     "shell.execute_reply": "2025-06-24T02:25:28.169819Z",
     "shell.execute_reply.started": "2025-06-24T02:25:28.053778Z"
    },
    "trusted": true
   },
   "outputs": [],
   "source": [
    "# Split training data to: 80% for training; 20% for testing;\n",
    "train_size = int(0.8 * len(train_data))\n",
    "train_features, train_labels = train_data[:train_size, 1:], train_data[:train_size, 0]\n",
    "test_features, test_labels = train_data[train_size:, 1:], train_data[train_size:, 0]\n",
    "total_features, total_labels = train_data[:, 1:], train_data[:, 0]\n",
    "\n",
    "# Pretreating submit data (normalize & type_conversion)\n",
    "submit_data = torch.as_tensor(submit_data / 255.0, dtype=torch.float32)"
   ]
  },
  {
   "cell_type": "code",
   "execution_count": null,
   "metadata": {
    "execution": {
     "iopub.execute_input": "2025-06-24T02:25:28.171991Z",
     "iopub.status.busy": "2025-06-24T02:25:28.171590Z",
     "iopub.status.idle": "2025-06-24T02:25:28.177116Z",
     "shell.execute_reply": "2025-06-24T02:25:28.176127Z",
     "shell.execute_reply.started": "2025-06-24T02:25:28.171957Z"
    },
    "trusted": true
   },
   "outputs": [],
   "source": [
    "print(train_features.shape, train_labels.shape)\n",
    "print(test_features.shape, test_labels.shape)\n",
    "print(total_features.shape, total_labels.shape)"
   ]
  },
  {
   "cell_type": "code",
   "execution_count": null,
   "metadata": {
    "execution": {
     "iopub.execute_input": "2025-06-24T02:25:28.179029Z",
     "iopub.status.busy": "2025-06-24T02:25:28.178460Z",
     "iopub.status.idle": "2025-06-24T02:25:28.307114Z",
     "shell.execute_reply": "2025-06-24T02:25:28.306352Z",
     "shell.execute_reply.started": "2025-06-24T02:25:28.178999Z"
    },
    "trusted": true
   },
   "outputs": [],
   "source": [
    "# Build custom datasets\n",
    "class SelfBuildDataset(Dataset):\n",
    "    def __init__(self, features, labels):\n",
    "        self.features = torch.as_tensor(features / 255.0, dtype=torch.float32)\n",
    "        self.labels = torch.as_tensor(labels, dtype=torch.long)\n",
    "\n",
    "    def __len__(self):\n",
    "        return len(self.features)\n",
    "\n",
    "    def __getitem__(self, idx):\n",
    "        X = self.features[idx]\n",
    "        y = self.labels[idx]\n",
    "        return X, y\n",
    "\n",
    "train_dataset = SelfBuildDataset(train_features, train_labels)\n",
    "test_dataset = SelfBuildDataset(test_features, test_labels)\n",
    "total_dataset = SelfBuildDataset(total_features, total_labels)"
   ]
  },
  {
   "cell_type": "code",
   "execution_count": null,
   "metadata": {
    "execution": {
     "iopub.execute_input": "2025-06-24T02:25:28.308478Z",
     "iopub.status.busy": "2025-06-24T02:25:28.307967Z",
     "iopub.status.idle": "2025-06-24T02:25:28.314120Z",
     "shell.execute_reply": "2025-06-24T02:25:28.313263Z",
     "shell.execute_reply.started": "2025-06-24T02:25:28.308450Z"
    },
    "trusted": true
   },
   "outputs": [],
   "source": [
    "# Build DataLoader\n",
    "batch_size = 512\n",
    "num_loader_workers = 4\n",
    "\n",
    "train_data_iter = DataLoader(train_dataset, batch_size=batch_size, shuffle=True, num_workers=num_loader_workers)\n",
    "test_data_iter = DataLoader(test_dataset, batch_size=batch_size, shuffle=False, num_workers=num_loader_workers)\n",
    "total_data_iter = DataLoader(total_dataset, batch_size=batch_size, shuffle=True, num_workers=num_loader_workers)"
   ]
  },
  {
   "cell_type": "markdown",
   "metadata": {},
   "source": [
    "# Design Model Architecture"
   ]
  },
  {
   "cell_type": "code",
   "execution_count": null,
   "metadata": {},
   "outputs": [],
   "source": [
    "# Model Hyper-Parameters\n",
    "inputs_num, outputs_num = 784, 10\n",
    "hidden_num1, weight_decay1 = 2048, 0.3"
   ]
  },
  {
   "cell_type": "code",
   "execution_count": null,
   "metadata": {
    "execution": {
     "iopub.execute_input": "2025-06-24T02:25:28.317206Z",
     "iopub.status.busy": "2025-06-24T02:25:28.316862Z",
     "iopub.status.idle": "2025-06-24T02:25:28.334880Z",
     "shell.execute_reply": "2025-06-24T02:25:28.333825Z",
     "shell.execute_reply.started": "2025-06-24T02:25:28.317177Z"
    },
    "trusted": true
   },
   "outputs": [],
   "source": [
    "# Model Architecture\n",
    "mlp = nn.Sequential(\n",
    "    nn.Linear(inputs_num, hidden_num1),\n",
    "    nn.ReLU(),\n",
    "    nn.Dropout(weight_decay1),\n",
    "    nn.Linear(hidden_num1, outputs_num),\n",
    ")\n",
    "\n",
    "linear_neural_network = mlp.to(device)"
   ]
  },
  {
   "cell_type": "code",
   "execution_count": null,
   "metadata": {
    "execution": {
     "iopub.execute_input": "2025-06-24T02:25:28.336847Z",
     "iopub.status.busy": "2025-06-24T02:25:28.335930Z",
     "iopub.status.idle": "2025-06-24T02:25:28.362979Z",
     "shell.execute_reply": "2025-06-24T02:25:28.361902Z",
     "shell.execute_reply.started": "2025-06-24T02:25:28.336812Z"
    },
    "trusted": true
   },
   "outputs": [],
   "source": [
    "# Init model parameters\n",
    "def init_weights(layer):\n",
    "    if type(layer) == nn.Linear:\n",
    "        nn.init.normal_(layer.weight, mean=0, std=1e-2)\n",
    "        nn.init.zeros_(layer.bias)\n",
    "\n",
    "_ = linear_neural_network.apply(init_weights)"
   ]
  },
  {
   "cell_type": "markdown",
   "metadata": {},
   "source": [
    "# Train Model"
   ]
  },
  {
   "cell_type": "code",
   "execution_count": null,
   "metadata": {
    "execution": {
     "iopub.execute_input": "2025-06-24T02:25:28.364451Z",
     "iopub.status.busy": "2025-06-24T02:25:28.364138Z",
     "iopub.status.idle": "2025-06-24T02:25:28.381656Z",
     "shell.execute_reply": "2025-06-24T02:25:28.380697Z",
     "shell.execute_reply.started": "2025-06-24T02:25:28.364420Z"
    },
    "trusted": true
   },
   "outputs": [],
   "source": [
    "# Set loss function\n",
    "cross_entropy = nn.CrossEntropyLoss(reduction='mean')"
   ]
  },
  {
   "cell_type": "code",
   "execution_count": null,
   "metadata": {
    "execution": {
     "iopub.execute_input": "2025-06-24T02:25:28.383208Z",
     "iopub.status.busy": "2025-06-24T02:25:28.382869Z",
     "iopub.status.idle": "2025-06-24T02:25:28.402734Z",
     "shell.execute_reply": "2025-06-24T02:25:28.401662Z",
     "shell.execute_reply.started": "2025-06-24T02:25:28.383182Z"
    },
    "trusted": true
   },
   "outputs": [],
   "source": [
    "# Set optimizer\n",
    "optimizer = torch.optim.SGD"
   ]
  },
  {
   "cell_type": "code",
   "execution_count": null,
   "metadata": {
    "execution": {
     "iopub.execute_input": "2025-06-24T02:25:28.404296Z",
     "iopub.status.busy": "2025-06-24T02:25:28.403996Z",
     "iopub.status.idle": "2025-06-24T02:25:29.625405Z",
     "shell.execute_reply": "2025-06-24T02:25:29.624435Z",
     "shell.execute_reply.started": "2025-06-24T02:25:28.404265Z"
    },
    "trusted": true
   },
   "outputs": [],
   "source": [
    "# Set hyper-parameters\n",
    "num_epochs = 500\n",
    "lr = 1e-2\n",
    "net = linear_neural_network\n",
    "loss = cross_entropy\n",
    "trainer = optimizer(net.parameters(), lr=lr)"
   ]
  },
  {
   "cell_type": "code",
   "execution_count": null,
   "metadata": {
    "execution": {
     "iopub.execute_input": "2025-06-24T02:25:29.626769Z",
     "iopub.status.busy": "2025-06-24T02:25:29.626285Z",
     "iopub.status.idle": "2025-06-24T02:26:00.531793Z",
     "shell.execute_reply": "2025-06-24T02:26:00.530733Z",
     "shell.execute_reply.started": "2025-06-24T02:25:29.626745Z"
    },
    "trusted": true
   },
   "outputs": [],
   "source": [
    "# Start training\n",
    "def right_predictions_num(y_hat, y):\n",
    "    y_hat = y_hat.argmax(axis=1)\n",
    "    cmp = (y_hat.type(y.dtype) == y)\n",
    "    return float(cmp.type(y.dtype).sum())\n",
    "\n",
    "def evaluate_by_test_dataset(net, test_data_iter):\n",
    "    net.eval()   # Set model to evaluating mode\n",
    "    trace_data = torch.tensor([0, 0, 0]).type(torch.float32)   # sum[loss]; num[right_predict]; num[test_sample];\n",
    "    with torch.no_grad():\n",
    "        for X, y in test_data_iter:\n",
    "            X, y = X.to(device), y.to(device)\n",
    "            y_hat = net(X)\n",
    "            l = loss(y_hat, y)\n",
    "            right_num = right_predictions_num(y_hat, y)\n",
    "            trace_data += torch.tensor([float(l) * y.numel(), right_num, y.numel()])\n",
    "    return (trace_data[0] / trace_data[2]), (trace_data[1] / trace_data[2])    # average[loss]; acc;\n",
    "\n",
    "def train_epoch(net, train_data_iter, loss, trainer):\n",
    "    net.train()    # Set model to training mode\n",
    "    trace_data = torch.tensor([0, 0, 0]).type(torch.float32)    # sum[loss]; sum[acc]; num[sample];\n",
    "    for X, y in train_data_iter:\n",
    "        X, y = X.to(device), y.to(device)\n",
    "        y_hat = net(X)\n",
    "        l = loss(y_hat, y)\n",
    "        trainer.zero_grad()\n",
    "        l.backward()\n",
    "        trainer.step()\n",
    "        trace_data += torch.tensor([float(l) * y.numel(), right_predictions_num(y_hat, y), y.numel()])\n",
    "    return (trace_data[0] / trace_data[2]), (trace_data[1] / trace_data[2])    # average[loss]; acc;\n",
    "\n",
    "def train_in_training_dataset(net, train_data_iter, test_data_iter, loss, trainer, num_epochs):\n",
    "    for epoch in range(num_epochs):\n",
    "        train_loss, train_acc = train_epoch(net, train_data_iter, loss, trainer)\n",
    "        test_loss, test_acc = evaluate_by_test_dataset(net, test_data_iter)\n",
    "        if (epoch + 1) % 5 == 0:\n",
    "            print(f\"epoch {epoch + 1:0>2}/{num_epochs}:\")\n",
    "            print(\"\\t\" + f\"train_loss {train_loss:>10.8f}\" + f\", train_acc {train_acc:>10.8f}\")\n",
    "            print(\"\\t\" + f\"test_loss  {test_loss:>10.8f}\" +  f\", test_acc  {test_acc:>10.8f}\")\n",
    "\n",
    "train_in_training_dataset(net, train_data_iter, test_data_iter, loss, trainer, num_epochs)"
   ]
  },
  {
   "cell_type": "code",
   "execution_count": null,
   "metadata": {},
   "outputs": [],
   "source": [
    "# Use total dataset to train model for submission\n",
    "def train_in_total_dataset(net, total_data_iter, loss, trainer, num_epochs):\n",
    "    for epoch in range(num_epochs):\n",
    "        train_loss, train_acc = train_epoch(net, total_data_iter, loss, trainer)\n",
    "        if (epoch + 1) % 5 == 0:\n",
    "            print(f\"epoch {epoch + 1:0>2}/{num_epochs}: trian_loss {train_loss:>10.8f}, train_acc {train_acc:>10.8f}\")\n",
    "\n",
    "linear_neural_network.apply(init_weights)    # Refresh network parameters for new training in total dataset\n",
    "train_in_total_dataset(net, total_data_iter, loss, trainer, num_epochs)"
   ]
  },
  {
   "cell_type": "markdown",
   "metadata": {},
   "source": [
    "# Generate Submission"
   ]
  },
  {
   "cell_type": "code",
   "execution_count": null,
   "metadata": {
    "execution": {
     "iopub.execute_input": "2025-06-24T02:34:48.263179Z",
     "iopub.status.busy": "2025-06-24T02:34:48.262863Z",
     "iopub.status.idle": "2025-06-24T02:34:48.299826Z",
     "shell.execute_reply": "2025-06-24T02:34:48.298943Z",
     "shell.execute_reply.started": "2025-06-24T02:34:48.263154Z"
    },
    "trusted": true
   },
   "outputs": [],
   "source": [
    "# Model prediction\n",
    "def predict(net, input_tensor):\n",
    "    net.eval()\n",
    "    with torch.no_grad():\n",
    "        rst = net(input_tensor).argmax(axis=1).type(torch.long)\n",
    "    return rst\n",
    "\n",
    "prediction_rst = predict(net, submit_data.to(device)).reshape(-1, 1)\n",
    "print(prediction_rst.shape)"
   ]
  },
  {
   "cell_type": "code",
   "execution_count": null,
   "metadata": {
    "execution": {
     "iopub.execute_input": "2025-06-24T02:34:52.590475Z",
     "iopub.status.busy": "2025-06-24T02:34:52.590169Z",
     "iopub.status.idle": "2025-06-24T02:34:52.596636Z",
     "shell.execute_reply": "2025-06-24T02:34:52.595757Z",
     "shell.execute_reply.started": "2025-06-24T02:34:52.590452Z"
    },
    "trusted": true
   },
   "outputs": [],
   "source": [
    "# Generate idxs and concat it with rst\n",
    "idxs = torch.arange(1, len(prediction_rst) + 1).reshape(-1, 1).to(device)\n",
    "prediction_rst = torch.cat((idxs, prediction_rst), 1)\n",
    "print(prediction_rst.shape)"
   ]
  },
  {
   "cell_type": "code",
   "execution_count": null,
   "metadata": {
    "execution": {
     "iopub.execute_input": "2025-06-24T02:40:06.158032Z",
     "iopub.status.busy": "2025-06-24T02:40:06.157666Z",
     "iopub.status.idle": "2025-06-24T02:40:06.186839Z",
     "shell.execute_reply": "2025-06-24T02:40:06.185657Z",
     "shell.execute_reply.started": "2025-06-24T02:40:06.158007Z"
    },
    "trusted": true
   },
   "outputs": [],
   "source": [
    "# Save result\n",
    "np_prediction_rst = prediction_rst.cpu().numpy()\n",
    "df = pd.DataFrame(np_prediction_rst, columns=['ImageId', 'Label'])\n",
    "df.to_csv('submission.csv', index=False)"
   ]
  }
 ],
 "metadata": {
  "kaggle": {
   "accelerator": "none",
   "dataSources": [
    {
     "databundleVersionId": 861823,
     "sourceId": 3004,
     "sourceType": "competition"
    }
   ],
   "dockerImageVersionId": 31040,
   "isGpuEnabled": false,
   "isInternetEnabled": true,
   "language": "python",
   "sourceType": "notebook"
  },
  "kernelspec": {
   "display_name": "Python 3",
   "language": "python",
   "name": "python3"
  },
  "language_info": {
   "codemirror_mode": {
    "name": "ipython",
    "version": 3
   },
   "file_extension": ".py",
   "mimetype": "text/x-python",
   "name": "python",
   "nbconvert_exporter": "python",
   "pygments_lexer": "ipython3",
   "version": "3.11.11"
  }
 },
 "nbformat": 4,
 "nbformat_minor": 4
}
